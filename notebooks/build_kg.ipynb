{
 "cells": [
  {
   "cell_type": "code",
   "execution_count": 1,
   "id": "1576edcb",
   "metadata": {},
   "outputs": [],
   "source": [
    "import pandas as pd\n",
    "from py2neo import Graph, Node, Relationship"
   ]
  },
  {
   "cell_type": "code",
   "execution_count": null,
   "id": "0af74464",
   "metadata": {},
   "outputs": [],
   "source": [
    "graph = Graph(\"bolt://127.0.0.1:7687\", auth=(\"neo4j\", \"astraloom123\"))"
   ]
  },
  {
   "cell_type": "code",
   "execution_count": null,
   "id": "1156b47b",
   "metadata": {},
   "outputs": [],
   "source": [
    "triplet_df = pd.read_csv(\"C:/ISRO_hackathon/data/isro_missions_triplets.csv\")"
   ]
  },
  {
   "cell_type": "code",
   "execution_count": 5,
   "id": "78fbc5d2",
   "metadata": {},
   "outputs": [],
   "source": [
    "def get_label_from_uri(uri):\n",
    "    if isinstance(uri, str) and \"/\" in uri:\n",
    "        return uri.split(\"/\")[0].capitalize()\n",
    "    return \"Literal\""
   ]
  },
  {
   "cell_type": "code",
   "execution_count": null,
   "id": "856bb052",
   "metadata": {},
   "outputs": [],
   "source": [
    "for _, row in triplet_df.iterrows():\n",
    "    s_uri, predicate, o_uri = row[\"subject\"], row[\"predicate\"], row[\"object\"]\n",
    "\n",
    "    # Determine labels for subject and object\n",
    "    s_label = get_label_from_uri(s_uri)\n",
    "    o_label = get_label_from_uri(o_uri)\n",
    "\n",
    "    # Create or merge subject and object nodes\n",
    "    subj = Node(s_label, id=s_uri)\n",
    "    obj = Node(o_label, id=o_uri)\n",
    "\n",
    "    graph.merge(subj, s_label, \"id\")\n",
    "    graph.merge(obj, o_label, \"id\")\n",
    "\n",
    "    # Create and merge the relationship\n",
    "    rel = Relationship(subj, predicate.upper(), obj)\n",
    "    graph.merge(rel)"
   ]
  }
 ],
 "metadata": {
  "kernelspec": {
   "display_name": "Python 3",
   "language": "python",
   "name": "python3"
  },
  "language_info": {
   "codemirror_mode": {
    "name": "ipython",
    "version": 3
   },
   "file_extension": ".py",
   "mimetype": "text/x-python",
   "name": "python",
   "nbconvert_exporter": "python",
   "pygments_lexer": "ipython3",
   "version": "3.12.1"
  }
 },
 "nbformat": 4,
 "nbformat_minor": 5
}
