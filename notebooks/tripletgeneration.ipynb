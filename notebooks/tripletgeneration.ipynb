{
 "cells": [
  {
   "cell_type": "code",
   "execution_count": 1,
   "id": "b49edf71",
   "metadata": {},
   "outputs": [],
   "source": [
    "import pandas as pd\n",
    "import os\n",
    "import csv"
   ]
  },
  {
   "cell_type": "code",
   "execution_count": 2,
   "id": "4a37dbc0",
   "metadata": {},
   "outputs": [],
   "source": [
    "df=pd.read_csv(\"C:/ISRO_hackathon/data/cleaned_isro_missions.csv\")\n",
    "MISSION_NS = \"mission/\"\n",
    "VEHICLE_NS = \"vehicle/\"\n",
    "APPLICATION_NS = \"application/\"\n",
    "ORBIT_NS = \"orbit/\"\n",
    "DOCUMENT_NS = \"document/\"\n",
    "triplets=[]"
   ]
  },
  {
   "cell_type": "code",
   "execution_count": 3,
   "id": "1bd09d17",
   "metadata": {},
   "outputs": [],
   "source": [
    "for _, row in df.iterrows():\n",
    "    subj = MISSION_NS + row[\"name\"].strip().replace(\" \", \"_\")\n",
    "    \n",
    "    triplets.append((subj, \"launched_by\", VEHICLE_NS + row[\"launch_vehicle\"].strip().replace(\" \", \"_\")))\n",
    "    triplets.append((subj, \"application\", APPLICATION_NS + row[\"application\"].strip().replace(\" \", \"_\")))\n",
    "    triplets.append((subj, \"orbit_type\", ORBIT_NS + row[\"orbit_type\"].strip().replace(\" \", \"_\")))\n",
    "    triplets.append((subj, \"has_description\", row[\"description\"]))\n",
    "    triplets.append((subj, \"launched_on\", str(row[\"launch_date\"])))\n",
    "\n",
    "    if row[\"pdf_brochure_url\"] != \"unknown\":\n",
    "        triplets.append((subj, \"has_brochure\", DOCUMENT_NS + \"pdf/\" + row[\"pdf_brochure_url\"].strip().split(\"/\")[-1]))\n",
    "\n",
    "    if row[\"details_url\"] != \"unknown\":\n",
    "        triplets.append((subj, \"has_details_page\", DOCUMENT_NS + \"web/\" + row[\"details_url\"].strip().split(\"/\")[-1]))"
   ]
  },
  {
   "cell_type": "code",
   "execution_count": 4,
   "id": "ebb21f6c",
   "metadata": {},
   "outputs": [],
   "source": [
    "triplet_df = pd.DataFrame(triplets, columns=[\"subject\", \"predicate\", \"object\"])\n",
    "triplet_df.to_csv(\"C:/ISRO_hackathon/data/isro_missions_triplets.csv\", index=False, quoting=csv.QUOTE_ALL)"
   ]
  }
 ],
 "metadata": {
  "kernelspec": {
   "display_name": "Python 3",
   "language": "python",
   "name": "python3"
  },
  "language_info": {
   "codemirror_mode": {
    "name": "ipython",
    "version": 3
   },
   "file_extension": ".py",
   "mimetype": "text/x-python",
   "name": "python",
   "nbconvert_exporter": "python",
   "pygments_lexer": "ipython3",
   "version": "3.12.1"
  }
 },
 "nbformat": 4,
 "nbformat_minor": 5
}
