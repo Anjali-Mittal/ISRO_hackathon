{
 "cells": [
  {
   "cell_type": "code",
   "execution_count": 9,
   "id": "9b265f0d",
   "metadata": {},
   "outputs": [],
   "source": [
    "import pandas as pd\n",
    "import numpy as np"
   ]
  },
  {
   "cell_type": "code",
   "execution_count": 10,
   "id": "d9f82bfc",
   "metadata": {},
   "outputs": [
    {
     "name": "stderr",
     "output_type": "stream",
     "text": [
      "<>:1: SyntaxWarning: invalid escape sequence '\\I'\n",
      "<>:1: SyntaxWarning: invalid escape sequence '\\I'\n",
      "C:\\Users\\DELL\\AppData\\Local\\Temp\\ipykernel_20832\\1866804132.py:1: SyntaxWarning: invalid escape sequence '\\I'\n",
      "  df = pd.read_csv(\"C:\\ISRO_hackathon\\data\\isro_missions_with_details.csv\")\n"
     ]
    }
   ],
   "source": [
    "df = pd.read_csv(\"C:\\ISRO_hackathon\\data\\isro_missions_with_details.csv\")\n",
    "\n",
    "# Select relevant columns\n",
    "columns = [\n",
    "    \"name\", \"launch_date\", \"launch_vehicle\", \"orbit_type\",\n",
    "    \"application\", \"details_url\", \"pdf_brochure_url\", \"description\"\n",
    "]\n",
    "df = df[columns]"
   ]
  },
  {
   "cell_type": "code",
   "execution_count": 11,
   "id": "65763be7",
   "metadata": {},
   "outputs": [],
   "source": [
    "df.fillna(\"unknown\", inplace=True)\n",
    "# first launched stored first\n",
    "def parse_date(date_str):\n",
    "    try:\n",
    "        return pd.to_datetime(date_str)\n",
    "    except:\n",
    "        return \"unknown\"\n",
    "\n",
    "df[\"launch_date\"] = df[\"launch_date\"].apply(parse_date)"
   ]
  },
  {
   "cell_type": "code",
   "execution_count": 12,
   "id": "5004f58d",
   "metadata": {},
   "outputs": [],
   "source": [
    "# Keep the original launch vehicle string for future-proofing\n",
    "df[\"launch_vehicle_raw\"] = df[\"launch_vehicle\"]\n",
    "\n",
    "# Clean launch vehicle by extracting just the vehicle name (e.g., 'PSLV-C57')\n",
    "df[\"launch_vehicle\"] = df[\"launch_vehicle\"].apply(lambda v: v.split(\"/\")[0].strip() if \"/\" in v else v.strip())\n",
    "\n",
    "# Keep description as-is (just strip outer whitespace)\n",
    "df[\"description\"] = df[\"description\"].apply(lambda x: x.strip())"
   ]
  },
  {
   "cell_type": "code",
   "execution_count": 14,
   "id": "413c359c",
   "metadata": {},
   "outputs": [],
   "source": [
    "def infer_application(desc):\n",
    "    desc = desc.lower()\n",
    "    if \"weather\" in desc: return \"Weather\"\n",
    "    if \"agriculture\" in desc: return \"Agriculture\"\n",
    "    if \"disaster\" in desc: return \"Disaster Management\"\n",
    "    if \"navigation\" in desc: return \"Navigation\"\n",
    "    if \"ocean\" in desc: return \"Oceanography\"\n",
    "    if \"climate\" in desc: return \"Climate\"\n",
    "    if \"communication\" in desc: return \"Communication\"\n",
    "    if \"earth observation\" in desc: return \"Earth Observation\"\n",
    "    return \"unknown\"\n",
    "\n",
    "def infer_orbit(desc):\n",
    "    desc = desc.lower()\n",
    "    if \"geostationary\" in desc or \"geo\" in desc: return \"GEO\"\n",
    "    if \"polar\" in desc: return \"Polar\"\n",
    "    if \"sun-synchronous\" in desc or \"sso\" in desc: return \"SSO\"\n",
    "    if \"low earth orbit\" in desc or \"leo\" in desc: return \"LEO\"\n",
    "    if \"gto\" in desc: return \"GTO\"\n",
    "    return \"unknown\"\n",
    "\n",
    "# Apply enrichment only where values are still unknown\n",
    "df[\"application\"] = df.apply(\n",
    "    lambda row: infer_application(row[\"description\"]) if row[\"application\"] == \"unknown\" else row[\"application\"],\n",
    "    axis=1\n",
    ")\n",
    "\n",
    "df[\"orbit_type\"] = df.apply(\n",
    "    lambda row: infer_orbit(row[\"description\"]) if row[\"orbit_type\"] == \"unknown\" else row[\"orbit_type\"],\n",
    "    axis=1\n",
    ")"
   ]
  },
  {
   "cell_type": "code",
   "execution_count": 15,
   "id": "0449cf85",
   "metadata": {},
   "outputs": [
    {
     "name": "stderr",
     "output_type": "stream",
     "text": [
      "<>:1: SyntaxWarning: invalid escape sequence '\\I'\n",
      "<>:1: SyntaxWarning: invalid escape sequence '\\I'\n",
      "C:\\Users\\DELL\\AppData\\Local\\Temp\\ipykernel_20832\\4106603175.py:1: SyntaxWarning: invalid escape sequence '\\I'\n",
      "  df.to_csv(\"C:\\ISRO_hackathon\\data\\cleaned_isro_missions.csv\", index=False)\n"
     ]
    }
   ],
   "source": [
    "df.to_csv(\"C:\\ISRO_hackathon\\data\\cleaned_isro_missions.csv\", index=False)"
   ]
  }
 ],
 "metadata": {
  "kernelspec": {
   "display_name": "Python 3",
   "language": "python",
   "name": "python3"
  },
  "language_info": {
   "codemirror_mode": {
    "name": "ipython",
    "version": 3
   },
   "file_extension": ".py",
   "mimetype": "text/x-python",
   "name": "python",
   "nbconvert_exporter": "python",
   "pygments_lexer": "ipython3",
   "version": "3.12.1"
  }
 },
 "nbformat": 4,
 "nbformat_minor": 5
}
